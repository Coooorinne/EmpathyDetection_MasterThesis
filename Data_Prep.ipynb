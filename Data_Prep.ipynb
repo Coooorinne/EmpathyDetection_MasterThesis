{
  "nbformat": 4,
  "nbformat_minor": 0,
  "metadata": {
    "colab": {
      "name": "Data Prep.ipynb",
      "provenance": [],
      "mount_file_id": "1VSnHCPsJm2kA5BHbuU6l54zFk-SrB5vi",
      "authorship_tag": "ABX9TyOpV+g2z1XYY0dDtg/nbitE"
    },
    "kernelspec": {
      "name": "python3",
      "display_name": "Python 3"
    }
  },
  "cells": [
    {
      "cell_type": "markdown",
      "metadata": {
        "id": "3_kcyS3ao2bH",
        "colab_type": "text"
      },
      "source": [
        "Data Preparation "
      ]
    },
    {
      "cell_type": "markdown",
      "metadata": {
        "id": "aQCAQw-fmO6_",
        "colab_type": "text"
      },
      "source": [
        "Import Modules"
      ]
    },
    {
      "cell_type": "code",
      "metadata": {
        "id": "bMJHxQpntdKN",
        "colab_type": "code",
        "colab": {
          "base_uri": "https://localhost:8080/",
          "height": 51
        },
        "outputId": "7f0704aa-5db2-460c-9ad0-341e6806e7a5"
      },
      "source": [
        "import sys, json\n",
        "import nltk\n",
        "nltk.download('punkt')\n",
        "import pandas as pd\n",
        "from pprint import pprint\n",
        "import collections\n",
        "import re\n",
        "import glob\n",
        "import seaborn as sns"
      ],
      "execution_count": 6,
      "outputs": [
        {
          "output_type": "stream",
          "text": [
            "[nltk_data] Downloading package punkt to /root/nltk_data...\n",
            "[nltk_data]   Unzipping tokenizers/punkt.zip.\n"
          ],
          "name": "stdout"
        }
      ]
    },
    {
      "cell_type": "code",
      "metadata": {
        "id": "6v_AFX6EptrU",
        "colab_type": "code",
        "colab": {}
      },
      "source": [
        "#restart runtime befor running\n",
        "import spacy\n",
        "from spacy.tokenizer import Tokenizer\n",
        "nlp = spacy.load('de_core_news_sm')\n",
        "tokenizer = Tokenizer(nlp.vocab)"
      ],
      "execution_count": null,
      "outputs": []
    },
    {
      "cell_type": "markdown",
      "metadata": {
        "id": "nxfeCXCvofiq",
        "colab_type": "text"
      },
      "source": [
        "Read JSON output from TagTog and create data table, saved as .ann.txt"
      ]
    },
    {
      "cell_type": "code",
      "metadata": {
        "id": "qDMliRr0Y88y",
        "colab_type": "code",
        "colab": {}
      },
      "source": [
        "def tokenize(text):\n",
        "   doc = nlp(text)\n",
        "   lst = [(token.idx, token.text) for token in doc]\n",
        "   return [x for x in lst if len(x[1].strip()) > 0]\n",
        "\n",
        "def sliding_window(lst, window_size):\n",
        "   for i in range(0, len(lst)-window_size+1):\n",
        "       yield lst[i:i+window_size]\n",
        "\n",
        "def locate(s, text):\n",
        "\n",
        "    def match(text_tokens, search_tokens):\n",
        "        for i, (tt, st) in enumerate(zip(text_tokens, search_tokens)):\n",
        "            if (i == 0) and tt[1].endswith(st[1]):\n",
        "                pass\n",
        "            elif (i == len(search_tokens)-1) and tt[1].startswith(st[1]):\n",
        "                pass\n",
        "            elif tt[1] == st[1]:\n",
        "                pass\n",
        "            else:\n",
        "                return False\n",
        "        return True\n",
        "\n",
        "    text_tokens = tokenize(text)\n",
        "    search_tokens = tokenize(s)\n",
        "\n",
        "    for ngram in sliding_window(text_tokens, len(search_tokens)):\n",
        "        if match(ngram, search_tokens):\n",
        "            fr = ngram[0][0]\n",
        "            to = ngram[-1][0] + len(ngram[-1][1])\n",
        "            return fr, to\n",
        "    return None\n",
        "  \n",
        "def read_json(): \n",
        "    j=0\n",
        "    file_path = glob.glob(\"/content/drive/My Drive/Data/TagTog_output/txt/***.txt\")\n",
        "    for file_ in file_path:\n",
        "      print(file_)\n",
        "      txt=(re.split('/',file_)[-1])\n",
        "      print(txt[:-4])\n",
        "      file=open(file_)\n",
        "      input_text = file.read()\n",
        "      tokens_input_text = nltk.word_tokenize(input_text)\n",
        "\n",
        "  \n",
        "      json_file=\"/content/drive/My Drive/Data/TagTog_output/json/\"+txt[:-4]+\".ann.json\"\n",
        "      json_data = open(\"/content/drive/My Drive/Data/TagTog_output/json/\"+txt[:-4]+\".ann.json\", \"r\")\n",
        "      \n",
        "      annots = []\n",
        "      \n",
        "      data = json.load(json_data)\n",
        "\n",
        "      json_data.close()\n",
        "\n",
        "      for i in range(0, len(data['entities'])):\n",
        "          if data['entities'][i]['classId'] == 'e_1':\n",
        "              strength = []\n",
        "              offsets = data['entities'][i]['offsets']\n",
        "              start = offsets[0]['start']\n",
        "              text = offsets[0]['text']\n",
        "              print(text)\n",
        "              test = locate(text, input_text)\n",
        "              if test:\n",
        "                  start_strength = test[0]\n",
        "                  length_strength = test[1]-start_strength\n",
        "              else:\n",
        "                  start_strength = input_text.find(text)\n",
        "                  length_strength = len(text)\n",
        "\n",
        "              fields = data [\"entities\"][i][\"fields\"]\n",
        "              try:\n",
        "                  f_4 = fields[\"f_4\"][\"value\"]\n",
        "              except KeyError:\n",
        "                  f_4 = \"not found\"\n",
        "                  print(json_file)\n",
        "\n",
        "              try:\n",
        "                  f_5 = fields[\"f_5\"][\"value\"]\n",
        "              except KeyError:\n",
        "                  f_5 = \"not found\"\n",
        "                  print(json_file)\n",
        "\n",
        "              strength.append(\"strength\")\n",
        "              strength.append(start_strength)\n",
        "              strength.append(length_strength)\n",
        "              strength.append(f_4)\n",
        "              strength.append(f_5)\n",
        "              strength.append(text)\n",
        "              annots.append(strength)\n",
        "          elif data['entities'][i]['classId'] == 'e_2':\n",
        "              weakness = []\n",
        "              offsets = data['entities'][i]['offsets']\n",
        "              text = offsets[0]['text']\n",
        "              test = locate(text, input_text)\n",
        "              if test:\n",
        "                  start_weakness = test[0]\n",
        "                  length_weakness = test[1]-start_weakness\n",
        "              else:\n",
        "                  start_weakness = input_text.find(text)\n",
        "                  length_weakness = len(text)\n",
        "\n",
        "              fields = data [\"entities\"][i][\"fields\"]\n",
        "              try:\n",
        "                  f_4 = fields[\"f_4\"][\"value\"]\n",
        "              except KeyError:\n",
        "                  f_4 = \"not found\"\n",
        "                  print(json_file)\n",
        "\n",
        "              try:\n",
        "                  f_5 = fields[\"f_5\"][\"value\"]\n",
        "              except KeyError:\n",
        "                  f_5 = \"not found\"\n",
        "                  print(json_file)\n",
        "\n",
        "              weakness.append(\"weakness\")\n",
        "              weakness.append(start_weakness)\n",
        "              weakness.append(length_weakness)\n",
        "              weakness.append(f_4)\n",
        "              weakness.append(f_5)\n",
        "              weakness.append(text)\n",
        "              annots.append(weakness)\n",
        "\n",
        "          elif data[\"entities\"][i]['classId'] == 'e_3':\n",
        "              suggestions = []\n",
        "              offsets = data['entities'][i]['offsets']\n",
        "              text = offsets[0]['text']\n",
        "              test = locate(text, input_text)\n",
        "              if test:\n",
        "                  start_suggestions = test[0]\n",
        "                  length_suggestions = test[1]-start_suggestions\n",
        "              else:\n",
        "                  start_suggestions = input_text.find(text)\n",
        "                  length_suggestions = len(text)\n",
        "\n",
        "              fields = data [\"entities\"][i][\"fields\"]\n",
        "              try:\n",
        "                  f_4 = fields[\"f_4\"][\"value\"]\n",
        "              except KeyError:\n",
        "                  f_4 = \"not found\"\n",
        "                  print(json_file)\n",
        "\n",
        "              try:\n",
        "                  f_5 = fields[\"f_5\"][\"value\"]\n",
        "              except KeyError:\n",
        "                  f_5 = \"not found\"\n",
        "                  print(json_file)\n",
        "\n",
        "              suggestions.append(\"suggestions\")\n",
        "              suggestions.append(start_suggestions)\n",
        "              suggestions.append(length_suggestions)\n",
        "              suggestions.append(f_4)\n",
        "              suggestions.append(f_5)\n",
        "              suggestions.append(text)\n",
        "              annots.append(suggestions)\n",
        "\n",
        "\n",
        "      f_out = open(\"/content/drive/My Drive/Data/ann1/\"+txt[:-4]+\".ann.txt\",\"w\")\n",
        "      j=j+1\n",
        "      for a in annots:\n",
        "          for entry in a:\n",
        "              f_out.write(str(entry) + '\\t')\n",
        "          f_out.write('\\n')\n",
        "\n",
        "      print(annots)\n",
        "\n",
        "read_json()"
      ],
      "execution_count": null,
      "outputs": []
    },
    {
      "cell_type": "markdown",
      "metadata": {
        "id": "yXgcwIwPpvCL",
        "colab_type": "text"
      },
      "source": [
        "Create Pandas Dataframe and map with original text, convert to .csv"
      ]
    },
    {
      "cell_type": "code",
      "metadata": {
        "id": "x7YziAtdZ2Jq",
        "colab_type": "code",
        "colab": {}
      },
      "source": [
        "def map_with_text():\n",
        "  line_no=0\n",
        "  dfObj = pd.DataFrame(columns=['UniqueID','DocumentID','classID','start','length','f_4','f_5','text']) #create pandas DataFrame\n",
        "  j=0\n",
        "#Loop over files\n",
        "  file_path = glob.glob(\"/content/drive/My Drive/Data/TagTog_output/txt/***.txt\")\n",
        "  for file_ in file_path:  \n",
        "    print(file_)\n",
        "    txt=(re.split('/',file_)[-1])\n",
        "    \n",
        "    file=open(file_)\n",
        "    input_text = file.read()\n",
        "    print('file  is ',j)\n",
        "    tokens_input_text = nltk.word_tokenize(input_text)\n",
        "\n",
        "    f_out = open(\"/content/drive/My Drive/Data/ann1/\"+txt[:-4]+\".ann.txt\", \"r\")\n",
        "\n",
        "    r=f_out.readlines()\n",
        "\n",
        "    previous_end_index=0\n",
        "    for line in r:\n",
        "      text=(re.split('\\t',line)[-2]) \n",
        "      #print(line)\n",
        "      print(text)\n",
        "      match = input_text.find(text)\n",
        "      print('match is ',match)\n",
        "      print\n",
        "      if match!=-1 and len(text)>0:\n",
        "        start_index=match\n",
        "        end_index=match+len(str(text))\n",
        "        print(previous_end_index,' ',start_index)\n",
        "        if previous_end_index<start_index:\n",
        "          print('not equal')\n",
        "          dfObj = dfObj.append({'UniqueID': line_no,'DocumentID': j,'classID': \"None\" ,'start': previous_end_index , 'length':(start_index-previous_end_index) , 'f_4': \"None\" , 'f_5': \"None\" , 'text': input_text[previous_end_index:start_index] }, ignore_index=True) ## saving in a dataframes\n",
        "          line_no+=1\n",
        "        previous_end_index=end_index\n",
        "        class_id=str(re.split('\\t',line)[0])\n",
        "        f4=(re.split('\\t',line)[3])\n",
        "        f5=(re.split('\\t',line)[4])\n",
        "        dfObj = dfObj.append({'UniqueID': line_no,'DocumentID': j,'classID': class_id ,'start': start_index , 'length': end_index-start_index , 'f_4':f4 , 'f_5': f5 , 'text': str(text) }, ignore_index=True) ## saving in a dataframes\n",
        "\n",
        "      \n",
        "        line_no+=1\n",
        "    j=j+1\n",
        "  return dfObj\n",
        "\n",
        "dataset_complete=map_with_text()\n",
        "\n",
        "dataset_complete\n",
        "\n",
        "dataset_complete.to_csv(r'/content/drive/My Drive/Data/dataset_complete.csv', index=False)"
      ],
      "execution_count": null,
      "outputs": []
    },
    {
      "cell_type": "markdown",
      "metadata": {
        "id": "pCdnXCQ3z29A",
        "colab_type": "text"
      },
      "source": [
        "Data Analysis"
      ]
    },
    {
      "cell_type": "code",
      "metadata": {
        "id": "C88h3ahmz4xf",
        "colab_type": "code",
        "colab": {
          "base_uri": "https://localhost:8080/",
          "height": 419
        },
        "outputId": "2248a058-2f4a-4b28-f31f-b081f602db15"
      },
      "source": [
        "#Mount drive before running\n",
        "df = pd.read_csv(\"/content/drive/My Drive/Data/dataset_groupedempathylevel.csv\")\n",
        "df.drop(df[df['length']<=3].index, inplace = True)  \n",
        "columns_to_keep = ['text','classID', 'f_4', 'f_5'] \n",
        "df = df[columns_to_keep]\n",
        "df"
      ],
      "execution_count": 2,
      "outputs": [
        {
          "output_type": "execute_result",
          "data": {
            "text/html": [
              "<div>\n",
              "<style scoped>\n",
              "    .dataframe tbody tr th:only-of-type {\n",
              "        vertical-align: middle;\n",
              "    }\n",
              "\n",
              "    .dataframe tbody tr th {\n",
              "        vertical-align: top;\n",
              "    }\n",
              "\n",
              "    .dataframe thead th {\n",
              "        text-align: right;\n",
              "    }\n",
              "</style>\n",
              "<table border=\"1\" class=\"dataframe\">\n",
              "  <thead>\n",
              "    <tr style=\"text-align: right;\">\n",
              "      <th></th>\n",
              "      <th>text</th>\n",
              "      <th>classID</th>\n",
              "      <th>f_4</th>\n",
              "      <th>f_5</th>\n",
              "    </tr>\n",
              "  </thead>\n",
              "  <tbody>\n",
              "    <tr>\n",
              "      <th>0</th>\n",
              "      <td>\"Stärken</td>\n",
              "      <td>None</td>\n",
              "      <td>None</td>\n",
              "      <td>None</td>\n",
              "    </tr>\n",
              "    <tr>\n",
              "      <th>1</th>\n",
              "      <td>Der User Journey Cycle ist vollständig abgebil...</td>\n",
              "      <td>strength</td>\n",
              "      <td>neutral</td>\n",
              "      <td>empathic</td>\n",
              "    </tr>\n",
              "    <tr>\n",
              "      <th>2</th>\n",
              "      <td>Schwächen</td>\n",
              "      <td>None</td>\n",
              "      <td>None</td>\n",
              "      <td>None</td>\n",
              "    </tr>\n",
              "    <tr>\n",
              "      <th>3</th>\n",
              "      <td>Tech Skills sind nicht stimmig dargestellt. We...</td>\n",
              "      <td>weakness</td>\n",
              "      <td>non-empathic</td>\n",
              "      <td>empathic</td>\n",
              "    </tr>\n",
              "    <tr>\n",
              "      <th>4</th>\n",
              "      <td>Verbesserungen</td>\n",
              "      <td>None</td>\n",
              "      <td>None</td>\n",
              "      <td>None</td>\n",
              "    </tr>\n",
              "    <tr>\n",
              "      <th>...</th>\n",
              "      <td>...</td>\n",
              "      <td>...</td>\n",
              "      <td>...</td>\n",
              "      <td>...</td>\n",
              "    </tr>\n",
              "    <tr>\n",
              "      <th>4169</th>\n",
              "      <td>2.Worin sehen Sie Schwächender Lösung des Komm...</td>\n",
              "      <td>None</td>\n",
              "      <td>None</td>\n",
              "      <td>None</td>\n",
              "    </tr>\n",
              "    <tr>\n",
              "      <th>4170</th>\n",
              "      <td>Ehrlich gesagt, finde ich die Zusatzerläuterun...</td>\n",
              "      <td>weakness</td>\n",
              "      <td>empathic</td>\n",
              "      <td>neutral</td>\n",
              "    </tr>\n",
              "    <tr>\n",
              "      <th>4171</th>\n",
              "      <td>3. Worauf sollte in der Überarbeitung der Lösu...</td>\n",
              "      <td>None</td>\n",
              "      <td>None</td>\n",
              "      <td>None</td>\n",
              "    </tr>\n",
              "    <tr>\n",
              "      <th>4172</th>\n",
              "      <td>Die Personas könnten durch das Weglassen der S...</td>\n",
              "      <td>suggestions</td>\n",
              "      <td>non-empathic</td>\n",
              "      <td>non-empathic</td>\n",
              "    </tr>\n",
              "    <tr>\n",
              "      <th>4173</th>\n",
              "      <td>Ich bin mir sicher, du bist dir bewusst, dass ...</td>\n",
              "      <td>strength</td>\n",
              "      <td>empathic</td>\n",
              "      <td>empathic</td>\n",
              "    </tr>\n",
              "  </tbody>\n",
              "</table>\n",
              "<p>3672 rows × 4 columns</p>\n",
              "</div>"
            ],
            "text/plain": [
              "                                                   text  ...           f_5\n",
              "0                                             \"Stärken   ...          None\n",
              "1     Der User Journey Cycle ist vollständig abgebil...  ...      empathic\n",
              "2                                             Schwächen  ...          None\n",
              "3     Tech Skills sind nicht stimmig dargestellt. We...  ...      empathic\n",
              "4                                        Verbesserungen  ...          None\n",
              "...                                                 ...  ...           ...\n",
              "4169  2.Worin sehen Sie Schwächender Lösung des Komm...  ...          None\n",
              "4170  Ehrlich gesagt, finde ich die Zusatzerläuterun...  ...       neutral\n",
              "4171  3. Worauf sollte in der Überarbeitung der Lösu...  ...          None\n",
              "4172  Die Personas könnten durch das Weglassen der S...  ...  non-empathic\n",
              "4173  Ich bin mir sicher, du bist dir bewusst, dass ...  ...      empathic\n",
              "\n",
              "[3672 rows x 4 columns]"
            ]
          },
          "metadata": {
            "tags": []
          },
          "execution_count": 2
        }
      ]
    },
    {
      "cell_type": "code",
      "metadata": {
        "id": "r-CpumXis7CC",
        "colab_type": "code",
        "colab": {
          "base_uri": "https://localhost:8080/",
          "height": 312
        },
        "outputId": "fac069bf-010a-41e1-f6a3-7dc6ca4c41e8"
      },
      "source": [
        "import matplotlib.pyplot as plt\n",
        "sns.countplot(df.classID, color=\"g\")\n",
        "plt.xlabel('ClassID')\n",
        "plt.title('Distribution of review components')"
      ],
      "execution_count": 16,
      "outputs": [
        {
          "output_type": "execute_result",
          "data": {
            "text/plain": [
              "Text(0.5, 1.0, 'Distribution of review components')"
            ]
          },
          "metadata": {
            "tags": []
          },
          "execution_count": 16
        },
        {
          "output_type": "display_data",
          "data": {
            "image/png": "[encoded data removed]",
            "text/plain": [
              "<Figure size 432x288 with 1 Axes>"
            ]
          },
          "metadata": {
            "tags": [],
            "needs_background": "light"
          }
        }
      ]
    },
    {
      "cell_type": "code",
      "metadata": {
        "id": "ctxns-q4PY3U",
        "colab_type": "code",
        "colab": {
          "base_uri": "https://localhost:8080/",
          "height": 313
        },
        "outputId": "72c21a44-7e01-462c-ae95-a180f5c8cf36"
      },
      "source": [
        "import matplotlib.pyplot as plt\n",
        "sns.countplot(df.f_4, color=\"g\" )\n",
        "plt.xlabel('f_4')\n",
        "plt.title('Distribution of emotional empathy')"
      ],
      "execution_count": 18,
      "outputs": [
        {
          "output_type": "execute_result",
          "data": {
            "text/plain": [
              "Text(0.5, 1.0, 'Distribution of emotional empathy')"
            ]
          },
          "metadata": {
            "tags": []
          },
          "execution_count": 18
        },
        {
          "output_type": "display_data",
          "data": {
            "image/png": "[encoded data removed]",
            "text/plain": [
              "<Figure size 432x288 with 1 Axes>"
            ]
          },
          "metadata": {
            "tags": [],
            "needs_background": "light"
          }
        }
      ]
    },
    {
      "cell_type": "code",
      "metadata": {
        "id": "6xPF8poFvEPr",
        "colab_type": "code",
        "colab": {
          "base_uri": "https://localhost:8080/",
          "height": 313
        },
        "outputId": "707a21f0-63a0-457c-b291-bf7faea43c6a"
      },
      "source": [
        "import matplotlib.pyplot as plt\n",
        "sns.countplot(df.f_5, color=\"g\")\n",
        "plt.xlabel('f_5')\n",
        "plt.title('Distribution of cognitive empathy')"
      ],
      "execution_count": 17,
      "outputs": [
        {
          "output_type": "execute_result",
          "data": {
            "text/plain": [
              "Text(0.5, 1.0, 'Distribution of cognitive empathy')"
            ]
          },
          "metadata": {
            "tags": []
          },
          "execution_count": 17
        },
        {
          "output_type": "display_data",
          "data": {
            "image/png": "[encoded data removed]",
            "text/plain": [
              "<Figure size 432x288 with 1 Axes>"
            ]
          },
          "metadata": {
            "tags": [],
            "needs_background": "light"
          }
        }
      ]
    }
  ]
}